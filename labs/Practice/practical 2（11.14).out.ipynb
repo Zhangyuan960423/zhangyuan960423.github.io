{
  "cells": [
    {
      "cell_type": "markdown",
      "metadata": {},
      "source": [
        "#"
      ],
      "id": "8080c6d5-7a52-4cd5-b064-f329ad84290b"
    },
    {
      "cell_type": "code",
      "execution_count": 4,
      "metadata": {},
      "outputs": [
        {
          "output_type": "stream",
          "name": "stdout",
          "text": [
            "Collecting openpyxlNote: you may need to restart the kernel to use updated packages.\n",
            "\n",
            "  Downloading openpyxl-3.1.5-py2.py3-none-any.whl.metadata (2.5 kB)\n",
            "Collecting et-xmlfile (from openpyxl)\n",
            "  Downloading et_xmlfile-2.0.0-py3-none-any.whl.metadata (2.7 kB)\n",
            "Downloading openpyxl-3.1.5-py2.py3-none-any.whl (250 kB)\n",
            "   ---------------------------------------- 0.0/250.9 kB ? eta -:--:--\n",
            "   - -------------------------------------- 10.2/250.9 kB ? eta -:--:--\n",
            "   ------ -------------------------------- 41.0/250.9 kB 653.6 kB/s eta 0:00:01\n",
            "   ------------------- -------------------- 122.9/250.9 kB 1.2 MB/s eta 0:00:01\n",
            "   ---------------------------------------  245.8/250.9 kB 1.5 MB/s eta 0:00:01\n",
            "   ---------------------------------------- 250.9/250.9 kB 1.5 MB/s eta 0:00:00\n",
            "Downloading et_xmlfile-2.0.0-py3-none-any.whl (18 kB)\n",
            "Installing collected packages: et-xmlfile, openpyxl\n",
            "Successfully installed et-xmlfile-2.0.0 openpyxl-3.1.5"
          ]
        },
        {
          "output_type": "stream",
          "name": "stderr",
          "text": [
            "\n",
            "[notice] A new release of pip is available: 24.0 -> 24.3.1\n",
            "[notice] To update, run: C:\\Users\\admin\\AppData\\Local\\Microsoft\\WindowsApps\\PythonSoftwareFoundation.Python.3.11_qbz5n2kfra8p0\\python.exe -m pip install --upgrade pip"
          ]
        }
      ],
      "source": [
        "%pip install openpyxl"
      ],
      "id": "cell-0"
    },
    {
      "cell_type": "code",
      "execution_count": 6,
      "metadata": {},
      "outputs": [
        {
          "output_type": "stream",
          "name": "stderr",
          "text": [
            "C:\\Users\\admin\\AppData\\Local\\Packages\\PythonSoftwareFoundation.Python.3.11_qbz5n2kfra8p0\\LocalCache\\local-packages\\Python311\\site-packages\\openpyxl\\worksheet\\_reader.py:329: UserWarning: Unknown extension is not supported and will be removed\n",
            "  warn(msg)"
          ]
        }
      ],
      "source": [
        "import pandas as pd\n",
        "data_np = pd.read_excel(\n",
        "    \"doing-economics-datafile-working-in-excel-project-2.xlsx\",\n",
        "    usecols=\"A:Q\",\n",
        "    header=1,\n",
        "    index_col=\"Period\",\n",
        ")\n",
        "data_n = data_np.iloc[:10, :].copy()\n",
        "data_p = data_np.iloc[14:24, :].copy()"
      ],
      "id": "cell-1"
    },
    {
      "cell_type": "code",
      "execution_count": 7,
      "metadata": {},
      "outputs": [],
      "source": [
        "test_data = {\n",
        "    \"City A\": [14.1, 14.1, 13.7],\n",
        "    \"City B\": [11.0, 12.6, 12.1],\n",
        "}\n",
        "\n",
        "\n",
        "# Original dataframe\n",
        "test_df = pd.DataFrame.from_dict(test_data)\n",
        "# A copy of the dataframe\n",
        "test_copy = test_df.copy()\n",
        "# A pointer to the dataframe\n",
        "test_pointer = test_df\n",
        "\n",
        "\n",
        "test_pointer.iloc[1, 1] = 99"
      ],
      "id": "cell-2"
    },
    {
      "cell_type": "code",
      "execution_count": 8,
      "metadata": {},
      "outputs": [
        {
          "output_type": "stream",
          "name": "stdout",
          "text": [
            "test_df=\n",
            "   City A  City B\n",
            "0    14.1    11.0\n",
            "1    14.1    99.0\n",
            "2    13.7    12.1\n",
            "\n",
            "test_copy=\n",
            "   City A  City B\n",
            "0    14.1    11.0\n",
            "1    14.1    12.6\n",
            "2    13.7    12.1\n"
          ]
        }
      ],
      "source": [
        "print(\"test_df=\")\n",
        "print(f\"{test_df}\\n\")\n",
        "print(\"test_copy=\")\n",
        "print(f\"{test_copy}\\n\")"
      ],
      "id": "cell-3"
    },
    {
      "cell_type": "code",
      "execution_count": 10,
      "metadata": {},
      "outputs": [
        {
          "output_type": "stream",
          "name": "stdout",
          "text": [
            "<class 'pandas.core.frame.DataFrame'>\n",
            "Index: 10 entries, 1 to 10\n",
            "Data columns (total 16 columns):\n",
            " #   Column           Non-Null Count  Dtype \n",
            "---  ------           --------------  ----- \n",
            " 0   Copenhagen       10 non-null     object\n",
            " 1   Dnipropetrovs’k  10 non-null     object\n",
            " 2   Minsk            10 non-null     object\n",
            " 3   St. Gallen       10 non-null     object\n",
            " 4   Muscat           10 non-null     object\n",
            " 5   Samara           10 non-null     object\n",
            " 6   Zurich           10 non-null     object\n",
            " 7   Boston           10 non-null     object\n",
            " 8   Bonn             10 non-null     object\n",
            " 9   Chengdu          10 non-null     object\n",
            " 10  Seoul            10 non-null     object\n",
            " 11  Riyadh           10 non-null     object\n",
            " 12  Nottingham       10 non-null     object\n",
            " 13  Athens           10 non-null     object\n",
            " 14  Istanbul         10 non-null     object\n",
            " 15  Melbourne        10 non-null     object\n",
            "dtypes: object(16)\n",
            "memory usage: 1.3+ KB"
          ]
        }
      ],
      "source": [
        "data_n.info()"
      ],
      "id": "cell-4"
    },
    {
      "cell_type": "code",
      "execution_count": 11,
      "metadata": {},
      "outputs": [],
      "source": [
        "data_n = data_n.astype(\"double\")\n",
        "data_p = data_p.astype(\"double\")"
      ],
      "id": "cell-5"
    },
    {
      "cell_type": "code",
      "execution_count": 13,
      "metadata": {},
      "outputs": [
        {
          "output_type": "stream",
          "name": "stderr",
          "text": [
            "C:\\Users\\admin\\AppData\\Local\\Temp\\ipykernel_6228\\527227325.py:3: FutureWarning: The provided callable <function mean at 0x0000015DF87DB060> is currently using DataFrame.mean. In a future version of pandas, the provided callable will be used directly. To keep current behavior pass the string \"mean\" instead.\n",
            "  mean_p_c = data_p.agg(np.mean, axis=1)"
          ]
        }
      ],
      "source": [
        "import numpy as np\n",
        "mean_n_c = data_n.mean(axis=1)\n",
        "mean_p_c = data_p.agg(np.mean, axis=1)"
      ],
      "id": "cell-6"
    },
    {
      "cell_type": "code",
      "execution_count": 15,
      "metadata": {},
      "outputs": [
        {
          "output_type": "display_data",
          "metadata": {},
          "data": {}
        }
      ],
      "source": [
        "import matplotlib.pyplot as plt\n",
        "fig, ax = plt.subplots()\n",
        "mean_n_c.plot(ax=ax, label=\"Without punishment\")\n",
        "mean_p_c.plot(ax=ax, label=\"With punishment\")\n",
        "ax.set_title(\"Average contributions to the public goods game\")\n",
        "ax.set_ylabel(\"Average contribution\")\n",
        "ax.legend();"
      ],
      "id": "cell-7"
    },
    {
      "cell_type": "markdown",
      "metadata": {},
      "source": [
        "question:Describe any differences and similarities you see in the mean\n",
        "contribution over time in both experiments answer:From the chart,we can\n",
        "see that the trend of the blue line(the experiment without\n",
        "punishment)goes down obviously during each period.However the trend of\n",
        "orange line(the experiment with punishment)goes up slowly.They start\n",
        "from the same point.But they goes differently."
      ],
      "id": "02ca3772-a7c7-4ef8-a08e-98496daa0842"
    },
    {
      "cell_type": "code",
      "execution_count": 16,
      "metadata": {},
      "outputs": [
        {
          "output_type": "display_data",
          "metadata": {},
          "data": {
            "text/plain": [
              "['John F. Kennedy', 'John Lennon', 'John Maynard Keynes', 'John Wayne']"
            ]
          }
        }
      ],
      "source": [
        "partial_names_list = [\"F. Kennedy\", \"Lennon\", \"Maynard Keynes\", \"Wayne\"]\n",
        "[\"John \" + name for name in partial_names_list]"
      ],
      "id": "cell-9"
    },
    {
      "cell_type": "code",
      "execution_count": 17,
      "metadata": {},
      "outputs": [
        {
          "output_type": "display_data",
          "metadata": {},
          "data": {
            "text/plain": [
              "['John F. Kennedy', 'John Lennon', 'John Maynard Keynes', 'John Wayne']"
            ]
          }
        }
      ],
      "source": [
        "['John F. Kennedy', 'John Lennon', 'John Maynard Keynes', 'John Wayne']"
      ],
      "id": "cell-10"
    },
    {
      "cell_type": "code",
      "execution_count": 18,
      "metadata": {},
      "outputs": [
        {
          "output_type": "display_data",
          "metadata": {},
          "data": {}
        }
      ],
      "source": [
        "# Create new dataframe with bars in\n",
        "compare_grps = pd.DataFrame(\n",
        "    [mean_n_c.loc[[1, 10]], mean_p_c.loc[[1, 10]]],\n",
        "    index=[\"Without punishment\", \"With punishment\"],\n",
        ")\n",
        "# Rename columns to have 'round' in them\n",
        "compare_grps.columns = [\"Round \" + str(i) for i in compare_grps.columns]\n",
        "# Swap the column and index variables around with the transpose function, ready for plotting (.T is transpose)\n",
        "compare_grps = compare_grps.T\n",
        "# Make a bar chart\n",
        "compare_grps.plot.bar(rot=0);"
      ],
      "id": "cell-11"
    },
    {
      "cell_type": "markdown",
      "metadata": {},
      "source": [
        "question:explain whether this means that the two sets of data are the\n",
        "same. answer:No,although the mean contribution for both experiments was\n",
        "10.6 in Period 1,but in round 10,the mean contribution is totally\n",
        "different.The data from experiment with punishment is much higher than\n",
        "that from experiment without punishment."
      ],
      "id": "35db2cd6-b299-4d2b-ad6c-3158accddb4f"
    },
    {
      "cell_type": "code",
      "execution_count": 19,
      "metadata": {},
      "outputs": [
        {
          "output_type": "display_data",
          "metadata": {},
          "data": {
            "text/html": [
              "\n",
              "</div>"
            ]
          }
        }
      ],
      "source": [
        "n_c = data_n.agg([\"std\", \"var\", \"mean\"], 1)\n",
        "n_c"
      ],
      "id": "cell-13"
    },
    {
      "cell_type": "code",
      "execution_count": 20,
      "metadata": {},
      "outputs": [],
      "source": [
        "p_c = data_p.agg([\"std\", \"var\", \"mean\"], 1)"
      ],
      "id": "cell-14"
    },
    {
      "cell_type": "code",
      "execution_count": 21,
      "metadata": {},
      "outputs": [
        {
          "output_type": "display_data",
          "metadata": {},
          "data": {}
        }
      ],
      "source": [
        "fig, ax = plt.subplots()\n",
        "n_c[\"mean\"].plot(ax=ax, label=\"mean\")\n",
        "# mean + 2 standard deviations\n",
        "(n_c[\"mean\"] + 2 * n_c[\"std\"]).plot(ax=ax, ylim=(0, None), color=\"red\", label=\"±2 s.d.\")\n",
        "# mean - 2 standard deviations\n",
        "(n_c[\"mean\"] - 2 * n_c[\"std\"]).plot(ax=ax, ylim=(0, None), color=\"red\", label=\"\")\n",
        "for i in range(len(data_n.columns)):\n",
        "    ax.scatter(x=data_n.index, y=data_n.iloc[:, i], color=\"k\", alpha=0.3)\n",
        "ax.legend()\n",
        "ax.set_ylabel(\"Average contribution\")\n",
        "ax.set_title(\"Contribution to public goods game without punishment\")\n",
        "plt.show();"
      ],
      "id": "cell-15"
    },
    {
      "cell_type": "code",
      "execution_count": 23,
      "metadata": {},
      "outputs": [
        {
          "output_type": "display_data",
          "metadata": {},
          "data": {}
        }
      ],
      "source": [
        "fig, ax = plt.subplots()\n",
        "p_c[\"mean\"].plot(ax=ax, label=\"mean\")\n",
        "# mean + 2 sd\n",
        "(p_c[\"mean\"] + 2 * p_c[\"std\"]).plot(ax=ax, ylim=(0, None), color=\"red\", label=\"±2 s.d.\")\n",
        "# mean - 2 sd\n",
        "(p_c[\"mean\"] - 2 * p_c[\"std\"]).plot(ax=ax, ylim=(0, None), color=\"red\", label=\"\")\n",
        "for i in range(len(data_p.columns)):\n",
        "    ax.scatter(x=data_p.index, y=data_p.iloc[:, i], color=\"k\", alpha=0.3)\n",
        "ax.legend()\n",
        "ax.set_ylabel(\"Average contribution\")\n",
        "ax.set_title(\"Contribution to public goods game with punishment\")\n",
        "plt.show();"
      ],
      "id": "cell-16"
    },
    {
      "cell_type": "code",
      "execution_count": 24,
      "metadata": {},
      "outputs": [
        {
          "output_type": "display_data",
          "metadata": {},
          "data": {
            "text/plain": [
              "Period\n",
              "1     10.199675\n",
              "2     12.185065\n",
              "3     12.689935\n",
              "4     12.625000\n",
              "5     12.140375\n",
              "6     12.827541\n",
              "7     13.098931\n",
              "8     13.482621\n",
              "9     13.496754\n",
              "10    11.307360\n",
              "dtype: float64"
            ]
          }
        }
      ],
      "source": [
        "data_p.apply(lambda x: x.max() - x.min(), axis=1)"
      ],
      "id": "cell-17"
    },
    {
      "cell_type": "code",
      "execution_count": 25,
      "metadata": {},
      "outputs": [
        {
          "output_type": "display_data",
          "metadata": {},
          "data": {
            "text/plain": [
              "50"
            ]
          }
        }
      ],
      "source": [
        "# A lambda function accepting three inputs, a, b, and c, and calculating the sum of the squares\n",
        "test_function = lambda a, b, c: a**2 + b**2 + c**2\n",
        "\n",
        "\n",
        "# Now we apply the function by handing over (in parenthesis) the following inputs: a=3, b=4 and c=5\n",
        "test_function(3, 4, 5)"
      ],
      "id": "cell-18"
    },
    {
      "cell_type": "code",
      "execution_count": 26,
      "metadata": {},
      "outputs": [],
      "source": [
        "range_function = lambda x: x.max() - x.min()\n",
        "range_p = data_p.apply(range_function, axis=1)\n",
        "range_n = data_n.apply(range_function, axis=1)"
      ],
      "id": "cell-19"
    },
    {
      "cell_type": "code",
      "execution_count": 27,
      "metadata": {},
      "outputs": [
        {
          "output_type": "display_data",
          "metadata": {},
          "data": {}
        }
      ],
      "source": [
        "fig, ax = plt.subplots()\n",
        "range_p.plot(ax=ax, label=\"With punishment\")\n",
        "range_n.plot(ax=ax, label=\"Without punishment\")\n",
        "ax.set_ylim(0, None)\n",
        "ax.legend()\n",
        "ax.set_title(\"Range of contributions to the public goods game\")\n",
        "plt.show();"
      ],
      "id": "cell-20"
    },
    {
      "cell_type": "code",
      "execution_count": 28,
      "metadata": {},
      "outputs": [],
      "source": [
        "funcs_to_apply = [range_function, \"max\", \"min\", \"std\", \"mean\"]\n",
        "summ_p = data_p.apply(funcs_to_apply, axis=1).rename(columns={\"<lambda>\": \"range\"})\n",
        "summ_n = data_n.apply(funcs_to_apply, axis=1).rename(columns={\"<lambda>\": \"range\"})"
      ],
      "id": "cell-21"
    },
    {
      "cell_type": "code",
      "execution_count": 29,
      "metadata": {},
      "outputs": [
        {
          "output_type": "display_data",
          "metadata": {},
          "data": {
            "text/html": [
              "\n",
              "</div>"
            ]
          }
        }
      ],
      "source": [
        "summ_n.loc[[1, 10], :].round(2)"
      ],
      "id": "cell-22"
    },
    {
      "cell_type": "code",
      "execution_count": 30,
      "metadata": {},
      "outputs": [
        {
          "output_type": "display_data",
          "metadata": {},
          "data": {
            "text/html": [
              "\n",
              "</div>"
            ]
          }
        }
      ],
      "source": [
        "summ_p.loc[[1, 10], :].round(2)"
      ],
      "id": "cell-23"
    },
    {
      "cell_type": "markdown",
      "metadata": {},
      "source": [
        "question:Comment on any similarities and differences in the\n",
        "distributions, both across time and across experiments\n",
        "answer:similarities:the statistics vary in different periods and\n",
        "different experiments differences:in experiment with punishment,the data\n",
        "is always going up,data from petiod 10 is always higher than that in\n",
        "period 1 but in experiment without punishment,the data from petiod 10 is\n",
        "not always higher than that in period 1"
      ],
      "id": "202faad4-6f41-4e74-b014-a4962e545c04"
    },
    {
      "cell_type": "code",
      "execution_count": 32,
      "metadata": {},
      "outputs": [
        {
          "output_type": "display_data",
          "metadata": {},
          "data": {
            "text/html": [
              "\n",
              "</div>"
            ]
          }
        }
      ],
      "source": [
        "import pingouin as pg\n",
        "pg.ttest(x=data_n.iloc[0, :], y=data_p.iloc[0, :])"
      ],
      "id": "cell-25"
    },
    {
      "cell_type": "code",
      "execution_count": 33,
      "metadata": {},
      "outputs": [
        {
          "output_type": "display_data",
          "metadata": {},
          "data": {
            "text/html": [
              "\n",
              "</div>"
            ]
          }
        }
      ],
      "source": [
        "pg.ttest(x=data_n.iloc[0, :], y=data_p.iloc[0, :], paired=True)"
      ],
      "id": "cell-26"
    },
    {
      "cell_type": "markdown",
      "metadata": {},
      "source": [
        "question:What does this p-value tell us about the difference in means in\n",
        "Period 1? answer:This result of the previous one delivers a p-value of\n",
        "0.9496. This means it is very likely that the assumption that there are\n",
        "no differences in the populations is likely to be true.In the latter\n",
        "one,The p-value becomes smaller as we can attribute more of the\n",
        "differences to the ‘with punishment’ treatment, but the p-value is still\n",
        "very large (0.8828), so we still conclude that the differences in Period\n",
        "1 are likely to be due to chance."
      ],
      "id": "50233f63-dbea-4ec0-8cf4-30c2e1a1957c"
    }
  ],
  "nbformat": 4,
  "nbformat_minor": 5,
  "metadata": {
    "kernelspec": {
      "name": "python3",
      "display_name": "Python 3",
      "language": "python"
    },
    "language_info": {
      "name": "python",
      "codemirror_mode": {
        "name": "ipython",
        "version": "3"
      },
      "file_extension": ".py",
      "mimetype": "text/x-python",
      "nbconvert_exporter": "python",
      "pygments_lexer": "ipython3",
      "version": "3.11.9"
    }
  }
}