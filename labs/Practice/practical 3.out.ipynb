{
  "cells": [
    {
      "cell_type": "markdown",
      "metadata": {},
      "source": [
        "#"
      ],
      "id": "84e8955a-51c1-4ddd-a902-bee9c9bda72a"
    },
    {
      "cell_type": "code",
      "execution_count": 1,
      "metadata": {},
      "outputs": [
        {
          "output_type": "stream",
          "name": "stdout",
          "text": [
            "Defaulting to user installation because normal site-packages is not writeable\n",
            "Requirement already satisfied: pandas-datareader in /Users/zhangyuan/Library/Python/3.9/lib/python/site-packages (0.10.0)\n",
            "Requirement already satisfied: lxml in /Users/zhangyuan/Library/Python/3.9/lib/python/site-packages (from pandas-datareader) (5.3.0)\n",
            "Requirement already satisfied: pandas>=0.23 in /Users/zhangyuan/Library/Python/3.9/lib/python/site-packages (from pandas-datareader) (2.2.3)\n",
            "Requirement already satisfied: requests>=2.19.0 in /Users/zhangyuan/Library/Python/3.9/lib/python/site-packages (from pandas-datareader) (2.32.3)\n",
            "Requirement already satisfied: tzdata>=2022.7 in /Users/zhangyuan/Library/Python/3.9/lib/python/site-packages (from pandas>=0.23->pandas-datareader) (2024.2)\n",
            "Requirement already satisfied: numpy>=1.22.4 in /Users/zhangyuan/Library/Python/3.9/lib/python/site-packages (from pandas>=0.23->pandas-datareader) (2.0.2)\n",
            "Requirement already satisfied: python-dateutil>=2.8.2 in /Users/zhangyuan/Library/Python/3.9/lib/python/site-packages (from pandas>=0.23->pandas-datareader) (2.9.0.post0)\n",
            "Requirement already satisfied: pytz>=2020.1 in /Users/zhangyuan/Library/Python/3.9/lib/python/site-packages (from pandas>=0.23->pandas-datareader) (2024.2)\n",
            "Requirement already satisfied: six>=1.5 in /Library/Developer/CommandLineTools/Library/Frameworks/Python3.framework/Versions/3.9/lib/python3.9/site-packages (from python-dateutil>=2.8.2->pandas>=0.23->pandas-datareader) (1.15.0)\n",
            "Requirement already satisfied: charset-normalizer<4,>=2 in /Users/zhangyuan/Library/Python/3.9/lib/python/site-packages (from requests>=2.19.0->pandas-datareader) (3.4.0)\n",
            "Requirement already satisfied: urllib3<3,>=1.21.1 in /Users/zhangyuan/Library/Python/3.9/lib/python/site-packages (from requests>=2.19.0->pandas-datareader) (2.2.3)\n",
            "Requirement already satisfied: certifi>=2017.4.17 in /Users/zhangyuan/Library/Python/3.9/lib/python/site-packages (from requests>=2.19.0->pandas-datareader) (2024.8.30)\n",
            "Requirement already satisfied: idna<4,>=2.5 in /Users/zhangyuan/Library/Python/3.9/lib/python/site-packages (from requests>=2.19.0->pandas-datareader) (3.10)\n",
            "WARNING: You are using pip version 21.2.4; however, version 24.3.1 is available.\n",
            "You should consider upgrading via the '/Library/Developer/CommandLineTools/usr/bin/python3 -m pip install --upgrade pip' command.\n",
            "Note: you may need to restart the kernel to use updated packages."
          ]
        }
      ],
      "source": [
        "%pip install pandas-datareader"
      ],
      "id": "cell-0"
    },
    {
      "cell_type": "code",
      "execution_count": 2,
      "metadata": {},
      "outputs": [
        {
          "output_type": "stream",
          "name": "stdout",
          "text": [
            "Defaulting to user installation because normal site-packages is not writeable\n",
            "Collecting BeautifulSoup\n",
            "  Using cached BeautifulSoup-3.2.2.tar.gz (32 kB)\n",
            "    ERROR: Command errored out with exit status 1:\n",
            "     command: /Library/Developer/CommandLineTools/usr/bin/python3 -c 'import io, os, sys, setuptools, tokenize; sys.argv[0] = '\"'\"'/private/var/folders/1x/zyt4dc_n3f1c_2rm1nvyb4p80000gn/T/pip-install-r8eazomy/beautifulsoup_af88a1f92d514f15bb70b0d19ed4b2ba/setup.py'\"'\"'; __file__='\"'\"'/private/var/folders/1x/zyt4dc_n3f1c_2rm1nvyb4p80000gn/T/pip-install-r8eazomy/beautifulsoup_af88a1f92d514f15bb70b0d19ed4b2ba/setup.py'\"'\"';f = getattr(tokenize, '\"'\"'open'\"'\"', open)(__file__) if os.path.exists(__file__) else io.StringIO('\"'\"'from setuptools import setup; setup()'\"'\"');code = f.read().replace('\"'\"'\\r\\n'\"'\"', '\"'\"'\\n'\"'\"');f.close();exec(compile(code, __file__, '\"'\"'exec'\"'\"'))' egg_info --egg-base /private/var/folders/1x/zyt4dc_n3f1c_2rm1nvyb4p80000gn/T/pip-pip-egg-info-e0aasr1v\n",
            "         cwd: /private/var/folders/1x/zyt4dc_n3f1c_2rm1nvyb4p80000gn/T/pip-install-r8eazomy/beautifulsoup_af88a1f92d514f15bb70b0d19ed4b2ba/\n",
            "    Complete output (6 lines):\n",
            "    Traceback (most recent call last):\n",
            "      File \"<string>\", line 1, in <module>\n",
            "      File \"/private/var/folders/1x/zyt4dc_n3f1c_2rm1nvyb4p80000gn/T/pip-install-r8eazomy/beautifulsoup_af88a1f92d514f15bb70b0d19ed4b2ba/setup.py\", line 3\n",
            "        \"You're trying to run a very old release of Beautiful Soup under Python 3. This will not work.\"<>\"Please use Beautiful Soup 4, available through the pip package 'beautifulsoup4'.\"\n",
            "                                                                                                       ^\n",
            "    SyntaxError: invalid syntax\n",
            "    ----------------------------------------\n",
            "WARNING: Discarding https://files.pythonhosted.org/packages/40/f2/6c9f2f3e696ee6a1fb0e4d7850617e224ed2b0b1e872110abffeca2a09d4/BeautifulSoup-3.2.2.tar.gz#sha256=a04169602bff6e3138b1259dbbf491f5a27f9499dea9a8fbafd48843f9d89970 (from https://pypi.org/simple/beautifulsoup/). Command errored out with exit status 1: python setup.py egg_info Check the logs for full command output.\n",
            "  Using cached BeautifulSoup-3.2.1.tar.gz (31 kB)\n",
            "    ERROR: Command errored out with exit status 1:\n",
            "     command: /Library/Developer/CommandLineTools/usr/bin/python3 -c 'import io, os, sys, setuptools, tokenize; sys.argv[0] = '\"'\"'/private/var/folders/1x/zyt4dc_n3f1c_2rm1nvyb4p80000gn/T/pip-install-r8eazomy/beautifulsoup_0bd5cf366dee4c3fb617f2d60080866e/setup.py'\"'\"'; __file__='\"'\"'/private/var/folders/1x/zyt4dc_n3f1c_2rm1nvyb4p80000gn/T/pip-install-r8eazomy/beautifulsoup_0bd5cf366dee4c3fb617f2d60080866e/setup.py'\"'\"';f = getattr(tokenize, '\"'\"'open'\"'\"', open)(__file__) if os.path.exists(__file__) else io.StringIO('\"'\"'from setuptools import setup; setup()'\"'\"');code = f.read().replace('\"'\"'\\r\\n'\"'\"', '\"'\"'\\n'\"'\"');f.close();exec(compile(code, __file__, '\"'\"'exec'\"'\"'))' egg_info --egg-base /private/var/folders/1x/zyt4dc_n3f1c_2rm1nvyb4p80000gn/T/pip-pip-egg-info-e5u238lr\n",
            "         cwd: /private/var/folders/1x/zyt4dc_n3f1c_2rm1nvyb4p80000gn/T/pip-install-r8eazomy/beautifulsoup_0bd5cf366dee4c3fb617f2d60080866e/\n",
            "    Complete output (6 lines):\n",
            "    Traceback (most recent call last):\n",
            "      File \"<string>\", line 1, in <module>\n",
            "      File \"/private/var/folders/1x/zyt4dc_n3f1c_2rm1nvyb4p80000gn/T/pip-install-r8eazomy/beautifulsoup_0bd5cf366dee4c3fb617f2d60080866e/setup.py\", line 22\n",
            "        print \"Unit tests have failed!\"\n",
            "              ^\n",
            "    SyntaxError: Missing parentheses in call to 'print'. Did you mean print(\"Unit tests have failed!\")?\n",
            "    ----------------------------------------\n",
            "WARNING: Discarding https://files.pythonhosted.org/packages/1e/ee/295988deca1a5a7accd783d0dfe14524867e31abb05b6c0eeceee49c759d/BeautifulSoup-3.2.1.tar.gz#sha256=6a8cb4401111e011b579c8c52a51cdab970041cc543814bbd9577a4529fe1cdb (from https://pypi.org/simple/beautifulsoup/). Command errored out with exit status 1: python setup.py egg_info Check the logs for full command output.\n",
            "  Using cached BeautifulSoup-3.2.0.tar.gz (31 kB)\n",
            "    ERROR: Command errored out with exit status 1:\n",
            "     command: /Library/Developer/CommandLineTools/usr/bin/python3 -c 'import io, os, sys, setuptools, tokenize; sys.argv[0] = '\"'\"'/private/var/folders/1x/zyt4dc_n3f1c_2rm1nvyb4p80000gn/T/pip-install-r8eazomy/beautifulsoup_f5d961260d474c9ab01dc3652b858a1f/setup.py'\"'\"'; __file__='\"'\"'/private/var/folders/1x/zyt4dc_n3f1c_2rm1nvyb4p80000gn/T/pip-install-r8eazomy/beautifulsoup_f5d961260d474c9ab01dc3652b858a1f/setup.py'\"'\"';f = getattr(tokenize, '\"'\"'open'\"'\"', open)(__file__) if os.path.exists(__file__) else io.StringIO('\"'\"'from setuptools import setup; setup()'\"'\"');code = f.read().replace('\"'\"'\\r\\n'\"'\"', '\"'\"'\\n'\"'\"');f.close();exec(compile(code, __file__, '\"'\"'exec'\"'\"'))' egg_info --egg-base /private/var/folders/1x/zyt4dc_n3f1c_2rm1nvyb4p80000gn/T/pip-pip-egg-info-lmqlevg6\n",
            "         cwd: /private/var/folders/1x/zyt4dc_n3f1c_2rm1nvyb4p80000gn/T/pip-install-r8eazomy/beautifulsoup_f5d961260d474c9ab01dc3652b858a1f/\n",
            "    Complete output (6 lines):\n",
            "    Traceback (most recent call last):\n",
            "      File \"<string>\", line 1, in <module>\n",
            "      File \"/private/var/folders/1x/zyt4dc_n3f1c_2rm1nvyb4p80000gn/T/pip-install-r8eazomy/beautifulsoup_f5d961260d474c9ab01dc3652b858a1f/setup.py\", line 22\n",
            "        print \"Unit tests have failed!\"\n",
            "              ^\n",
            "    SyntaxError: Missing parentheses in call to 'print'. Did you mean print(\"Unit tests have failed!\")?\n",
            "    ----------------------------------------\n",
            "WARNING: Discarding https://files.pythonhosted.org/packages/33/fe/15326560884f20d792d3ffc7fe8f639aab88647c9d46509a240d9bfbb6b1/BeautifulSoup-3.2.0.tar.gz#sha256=0dc52d07516c1665c9dd9f0a390a7a054bfb7b147a50b2866fb116b8909dfd37 (from https://pypi.org/simple/beautifulsoup/). Command errored out with exit status 1: python setup.py egg_info Check the logs for full command output.\n",
            "ERROR: Could not find a version that satisfies the requirement BeautifulSoup (from versions: 3.2.0, 3.2.1, 3.2.2)\n",
            "ERROR: No matching distribution found for BeautifulSoup\n",
            "WARNING: You are using pip version 21.2.4; however, version 24.3.1 is available.\n",
            "You should consider upgrading via the '/Library/Developer/CommandLineTools/usr/bin/python3 -m pip install --upgrade pip' command.\n",
            "Note: you may need to restart the kernel to use updated packages."
          ]
        }
      ],
      "source": [
        "%pip install BeautifulSoup"
      ],
      "id": "cell-1"
    },
    {
      "cell_type": "code",
      "execution_count": 3,
      "metadata": {},
      "outputs": [
        {
          "output_type": "stream",
          "name": "stdout",
          "text": [
            "Defaulting to user installation because normal site-packages is not writeable\n",
            "Requirement already satisfied: bs4 in /Users/zhangyuan/Library/Python/3.9/lib/python/site-packages (0.0.2)\n",
            "Requirement already satisfied: beautifulsoup4 in /Users/zhangyuan/Library/Python/3.9/lib/python/site-packages (from bs4) (4.12.3)\n",
            "Requirement already satisfied: soupsieve>1.2 in /Users/zhangyuan/Library/Python/3.9/lib/python/site-packages (from beautifulsoup4->bs4) (2.6)\n",
            "WARNING: You are using pip version 21.2.4; however, version 24.3.1 is available.\n",
            "You should consider upgrading via the '/Library/Developer/CommandLineTools/usr/bin/python3 -m pip install --upgrade pip' command.\n",
            "Note: you may need to restart the kernel to use updated packages."
          ]
        }
      ],
      "source": [
        "%pip install bs4"
      ],
      "id": "cell-2"
    },
    {
      "cell_type": "code",
      "execution_count": 4,
      "metadata": {},
      "outputs": [
        {
          "output_type": "stream",
          "name": "stderr",
          "text": [
            "/Users/zhangyuan/Library/Python/3.9/lib/python/site-packages/urllib3/__init__.py:35: NotOpenSSLWarning: urllib3 v2 only supports OpenSSL 1.1.1+, currently the 'ssl' module is compiled with 'LibreSSL 2.8.3'. See: https://github.com/urllib3/urllib3/issues/3020\n",
            "  warnings.warn("
          ]
        }
      ],
      "source": [
        "import matplotlib.pyplot as plt\n",
        "import pandas as pd\n",
        "import requests\n",
        "from bs4 import BeautifulSoup\n",
        "import textwrap"
      ],
      "id": "cell-3"
    },
    {
      "cell_type": "code",
      "execution_count": 5,
      "metadata": {},
      "outputs": [
        {
          "output_type": "display_data",
          "metadata": {},
          "data": {
            "text/html": [
              "\n",
              "</div>"
            ]
          }
        }
      ],
      "source": [
        "pd.read_csv(\n",
        "    \"https://vincentarelbundock.github.io/Rdatasets/csv/dplyr/storms.csv\", nrows=10\n",
        ")"
      ],
      "id": "cell-4"
    },
    {
      "cell_type": "code",
      "execution_count": 6,
      "metadata": {},
      "outputs": [
        {
          "output_type": "display_data",
          "metadata": {},
          "data": {
            "text/plain": [
              "'<!DOCTYPE html>\\n<html xmlns=\"http://www.w3.org/1999/xhtml\" lang=\"en\" xml:lang=\"en\"><head>\\n\\n<meta charset=\"utf-8\">\\n<meta name=\"generator\" content=\"quarto-1.5.56\">\\n\\n<meta name=\"viewport\" content=\"width=device-width, initial-scale=1.0, user-scalable=yes\">\\n\\n<meta name=\"author\" content=\"Arthur Turrell\">\\n'"
            ]
          }
        }
      ],
      "source": [
        "url = \"http://aeturrell.com/research\"\n",
        "page = requests.get(url)\n",
        "page.text[:300]"
      ],
      "id": "cell-5"
    },
    {
      "cell_type": "code",
      "execution_count": 7,
      "metadata": {},
      "outputs": [
        {
          "output_type": "stream",
          "name": "stdout",
          "text": [
            "       </div>\n",
            "          <div class=\"project-category\">\n",
            "           <a href=\"#category=gender pay gap\">\n",
            "            gender pay gap\n",
            "           </a>\n",
            "          </div>\n",
            "          <div class=\"project-category\">\n",
            "           <a href=\"#category=labour\">\n",
            "            labour\n",
            "           </a>\n",
            "          </div>\n",
            "          <div class=\"project-category\">\n",
            "           <a href=\"#category=text analysis\">\n",
            "            text analysis\n",
            "           </a>\n",
            "          </div>\n",
            "         </div>\n",
            "         <div class=\"project-details-listing"
          ]
        }
      ],
      "source": [
        "soup = BeautifulSoup(page.text, \"html.parser\")\n",
        "print(soup.prettify()[60000:60500])"
      ],
      "id": "cell-6"
    },
    {
      "cell_type": "code",
      "execution_count": 8,
      "metadata": {},
      "outputs": [
        {
          "output_type": "display_data",
          "metadata": {},
          "data": {
            "text/plain": [
              "<p>Botta, Federico, Robin Lovelace, Laura Gilbert, and Arthur Turrell. \"Packaging code and data for reproducible research: A case study of journey time statistics.\" <i>Environment and Planning B: Urban Analytics and City Science</i> (2024): 23998083241267331. doi: <a href=\"https://doi.org/10.1177/23998083241267331\"><code>10.1177/23998083241267331</code></a></p>"
            ]
          }
        }
      ],
      "source": [
        "# Get all paragraphs\n",
        "all_paras = soup.find_all(\"p\")\n",
        "# Just show one of the paras\n",
        "all_paras[1]"
      ],
      "id": "cell-7"
    },
    {
      "cell_type": "code",
      "execution_count": 9,
      "metadata": {},
      "outputs": [
        {
          "output_type": "display_data",
          "metadata": {},
          "data": {
            "text/plain": [
              "'Botta, Federico, Robin Lovelace, Laura Gilbert, and Arthur Turrell. \"Packaging code and data for reproducible research: A case study of journey time statistics.\" Environment and Planning B: Urban Analytics and City Science (2024): 23998083241267331. doi: 10.1177/23998083241267331'"
            ]
          }
        }
      ],
      "source": [
        "all_paras[1].text"
      ],
      "id": "cell-8"
    },
    {
      "cell_type": "code",
      "execution_count": 10,
      "metadata": {},
      "outputs": [
        {
          "output_type": "display_data",
          "metadata": {},
          "data": {
            "text/plain": [
              "['Botta, Federico, Robin Lovelace, Laura Gilbert, and Arthur Turrell. \"Packaging code and data for reproducible research: A case study of journey time statistics.\" Environment and Planning B: Urban Analytics and City Science (2024): 23998083241267331. doi: 10.1177/23998083241267331',\n",
              " 'Kalamara, Eleni, Arthur Turrell, Chris Redl, George Kapetanios, and Sujit Kapadia. \"Making text count: economic forecasting using newspaper text.\" Journal of Applied Econometrics 37, no. 5 (2022): 896-919. doi: 10.1002/jae.2907',\n",
              " 'Turrell, A., Speigner, B., Copple, D., Djumalieva, J. and Thurgood, J., 2021. Is the UK’s productivity puzzle mostly driven by occupational mismatch? An analysis using big data on job vacancies. Labour Economics, 71, p.102013. doi: 10.1016/j.labeco.2021.102013',\n",
              " 'Haldane, Andrew G., and Arthur E. Turrell. \"Drawing on different disciplines: macroeconomic agent-based models.\" Journal of Evolutionary Economics 29 (2019): 39-66. doi: 10.1007/s00191-018-0557-5']"
            ]
          }
        }
      ],
      "source": [
        "projects = soup.find_all(\"div\", class_=\"project-content listing-pub-info\")\n",
        "projects = [x.text.strip() for x in projects]\n",
        "projects[:4]"
      ],
      "id": "cell-9"
    },
    {
      "cell_type": "code",
      "execution_count": 11,
      "metadata": {},
      "outputs": [
        {
          "output_type": "display_data",
          "metadata": {},
          "data": {
            "text/html": [
              "\n",
              "</div>"
            ]
          }
        }
      ],
      "source": [
        "df_list = pd.read_html(\n",
        "    \"https://simple.wikipedia.org/wiki/FIFA_World_Cup\", match=\"Sweden\"\n",
        ")\n",
        "# Retrieve first and only entry from list of dataframes\n",
        "df = df_list[0]\n",
        "df.head()"
      ],
      "id": "cell-10"
    },
    {
      "cell_type": "code",
      "execution_count": 12,
      "metadata": {},
      "outputs": [
        {
          "output_type": "stream",
          "name": "stdout",
          "text": [
            "Defaulting to user installation because normal site-packages is not writeable\n",
            "Collecting pdftotext\n",
            "  Using cached pdftotext-2.2.2.tar.gz (113 kB)\n",
            "Building wheels for collected packages: pdftotext\n",
            "  Building wheel for pdftotext (setup.py) ... error\n",
            "  ERROR: Command errored out with exit status 1:\n",
            "   command: /Library/Developer/CommandLineTools/usr/bin/python3 -u -c 'import io, os, sys, setuptools, tokenize; sys.argv[0] = '\"'\"'/private/var/folders/1x/zyt4dc_n3f1c_2rm1nvyb4p80000gn/T/pip-install-y3naj6or/pdftotext_186040e64e024aba9f9139912a0a9bc1/setup.py'\"'\"'; __file__='\"'\"'/private/var/folders/1x/zyt4dc_n3f1c_2rm1nvyb4p80000gn/T/pip-install-y3naj6or/pdftotext_186040e64e024aba9f9139912a0a9bc1/setup.py'\"'\"';f = getattr(tokenize, '\"'\"'open'\"'\"', open)(__file__) if os.path.exists(__file__) else io.StringIO('\"'\"'from setuptools import setup; setup()'\"'\"');code = f.read().replace('\"'\"'\\r\\n'\"'\"', '\"'\"'\\n'\"'\"');f.close();exec(compile(code, __file__, '\"'\"'exec'\"'\"'))' bdist_wheel -d /private/var/folders/1x/zyt4dc_n3f1c_2rm1nvyb4p80000gn/T/pip-wheel-plhgc5t9\n",
            "       cwd: /private/var/folders/1x/zyt4dc_n3f1c_2rm1nvyb4p80000gn/T/pip-install-y3naj6or/pdftotext_186040e64e024aba9f9139912a0a9bc1/\n",
            "  Complete output (18 lines):\n",
            "  WARNING: pkg-config not found--guessing at poppler version.\n",
            "           If the build fails, install pkg-config and try again.\n",
            "  WARNING: pkg-config not found--guessing at poppler version.\n",
            "           If the build fails, install pkg-config and try again.\n",
            "  WARNING: pkg-config not found--guessing at poppler version.\n",
            "           If the build fails, install pkg-config and try again.\n",
            "  running bdist_wheel\n",
            "  running build\n",
            "  running build_ext\n",
            "  building 'pdftotext' extension\n",
            "  creating build\n",
            "  creating build/temp.macosx-10.9-universal2-3.9\n",
            "  clang -Wno-unused-result -Wsign-compare -Wunreachable-code -fno-common -dynamic -DNDEBUG -g -fwrapv -O3 -Wall -iwithsysroot/System/Library/Frameworks/System.framework/PrivateHeaders -iwithsysroot/Applications/Xcode.app/Contents/Developer/Library/Frameworks/Python3.framework/Versions/3.9/Headers -arch arm64 -arch x86_64 -Werror=implicit-function-declaration -Wno-error=unreachable-code -DPOPPLER_CPP_AT_LEAST_0_30_0=1 -DPOPPLER_CPP_AT_LEAST_0_58_0=1 -DPOPPLER_CPP_AT_LEAST_0_88_0=1 -I/usr/local/include -I/Library/Developer/CommandLineTools/Library/Frameworks/Python3.framework/Versions/3.9/include/python3.9 -c pdftotext.cpp -o build/temp.macosx-10.9-universal2-3.9/pdftotext.o -Wall -mmacosx-version-min=10.9 -std=c++11\n",
            "  pdftotext.cpp:3:10: fatal error: 'poppler/cpp/poppler-document.h' file not found\n",
            "      3 | #include <poppler/cpp/poppler-document.h>\n",
            "        |          ^~~~~~~~~~~~~~~~~~~~~~~~~~~~~~~~\n",
            "  1 error generated.\n",
            "  error: command '/usr/bin/clang' failed with exit code 1\n",
            "  ----------------------------------------\n",
            "  ERROR: Failed building wheel for pdftotext\n",
            "  Running setup.py clean for pdftotext\n",
            "Failed to build pdftotext\n",
            "Installing collected packages: pdftotext\n",
            "    Running setup.py install for pdftotext ... error\n",
            "    ERROR: Command errored out with exit status 1:\n",
            "     command: /Library/Developer/CommandLineTools/usr/bin/python3 -u -c 'import io, os, sys, setuptools, tokenize; sys.argv[0] = '\"'\"'/private/var/folders/1x/zyt4dc_n3f1c_2rm1nvyb4p80000gn/T/pip-install-y3naj6or/pdftotext_186040e64e024aba9f9139912a0a9bc1/setup.py'\"'\"'; __file__='\"'\"'/private/var/folders/1x/zyt4dc_n3f1c_2rm1nvyb4p80000gn/T/pip-install-y3naj6or/pdftotext_186040e64e024aba9f9139912a0a9bc1/setup.py'\"'\"';f = getattr(tokenize, '\"'\"'open'\"'\"', open)(__file__) if os.path.exists(__file__) else io.StringIO('\"'\"'from setuptools import setup; setup()'\"'\"');code = f.read().replace('\"'\"'\\r\\n'\"'\"', '\"'\"'\\n'\"'\"');f.close();exec(compile(code, __file__, '\"'\"'exec'\"'\"'))' install --record /private/var/folders/1x/zyt4dc_n3f1c_2rm1nvyb4p80000gn/T/pip-record-7kgjcofx/install-record.txt --single-version-externally-managed --user --prefix= --compile --install-headers /Users/zhangyuan/Library/Python/3.9/include/python3.9/pdftotext\n",
            "         cwd: /private/var/folders/1x/zyt4dc_n3f1c_2rm1nvyb4p80000gn/T/pip-install-y3naj6or/pdftotext_186040e64e024aba9f9139912a0a9bc1/\n",
            "    Complete output (18 lines):\n",
            "    WARNING: pkg-config not found--guessing at poppler version.\n",
            "             If the build fails, install pkg-config and try again.\n",
            "    WARNING: pkg-config not found--guessing at poppler version.\n",
            "             If the build fails, install pkg-config and try again.\n",
            "    WARNING: pkg-config not found--guessing at poppler version.\n",
            "             If the build fails, install pkg-config and try again.\n",
            "    running install\n",
            "    running build\n",
            "    running build_ext\n",
            "    building 'pdftotext' extension\n",
            "    creating build\n",
            "    creating build/temp.macosx-10.9-universal2-3.9\n",
            "    clang -Wno-unused-result -Wsign-compare -Wunreachable-code -fno-common -dynamic -DNDEBUG -g -fwrapv -O3 -Wall -iwithsysroot/System/Library/Frameworks/System.framework/PrivateHeaders -iwithsysroot/Applications/Xcode.app/Contents/Developer/Library/Frameworks/Python3.framework/Versions/3.9/Headers -arch arm64 -arch x86_64 -Werror=implicit-function-declaration -Wno-error=unreachable-code -DPOPPLER_CPP_AT_LEAST_0_30_0=1 -DPOPPLER_CPP_AT_LEAST_0_58_0=1 -DPOPPLER_CPP_AT_LEAST_0_88_0=1 -I/usr/local/include -I/Library/Developer/CommandLineTools/Library/Frameworks/Python3.framework/Versions/3.9/include/python3.9 -c pdftotext.cpp -o build/temp.macosx-10.9-universal2-3.9/pdftotext.o -Wall -mmacosx-version-min=10.9 -std=c++11\n",
            "    pdftotext.cpp:3:10: fatal error: 'poppler/cpp/poppler-document.h' file not found\n",
            "        3 | #include <poppler/cpp/poppler-document.h>\n",
            "          |          ^~~~~~~~~~~~~~~~~~~~~~~~~~~~~~~~\n",
            "    1 error generated.\n",
            "    error: command '/usr/bin/clang' failed with exit code 1\n",
            "    ----------------------------------------\n",
            "ERROR: Command errored out with exit status 1: /Library/Developer/CommandLineTools/usr/bin/python3 -u -c 'import io, os, sys, setuptools, tokenize; sys.argv[0] = '\"'\"'/private/var/folders/1x/zyt4dc_n3f1c_2rm1nvyb4p80000gn/T/pip-install-y3naj6or/pdftotext_186040e64e024aba9f9139912a0a9bc1/setup.py'\"'\"'; __file__='\"'\"'/private/var/folders/1x/zyt4dc_n3f1c_2rm1nvyb4p80000gn/T/pip-install-y3naj6or/pdftotext_186040e64e024aba9f9139912a0a9bc1/setup.py'\"'\"';f = getattr(tokenize, '\"'\"'open'\"'\"', open)(__file__) if os.path.exists(__file__) else io.StringIO('\"'\"'from setuptools import setup; setup()'\"'\"');code = f.read().replace('\"'\"'\\r\\n'\"'\"', '\"'\"'\\n'\"'\"');f.close();exec(compile(code, __file__, '\"'\"'exec'\"'\"'))' install --record /private/var/folders/1x/zyt4dc_n3f1c_2rm1nvyb4p80000gn/T/pip-record-7kgjcofx/install-record.txt --single-version-externally-managed --user --prefix= --compile --install-headers /Users/zhangyuan/Library/Python/3.9/include/python3.9/pdftotext Check the logs for full command output.\n",
            "WARNING: You are using pip version 21.2.4; however, version 24.3.1 is available.\n",
            "You should consider upgrading via the '/Library/Developer/CommandLineTools/usr/bin/python3 -m pip install --upgrade pip' command.\n",
            "Note: you may need to restart the kernel to use updated packages."
          ]
        }
      ],
      "source": [
        "%pip install pdftotext"
      ],
      "id": "cell-11"
    },
    {
      "cell_type": "code",
      "execution_count": 13,
      "metadata": {},
      "outputs": [],
      "source": [
        "from bs4 import BeautifulSoup\n",
        "import requests\n",
        "import re\n",
        "import pandas as pd"
      ],
      "id": "cell-12"
    },
    {
      "cell_type": "code",
      "execution_count": 14,
      "metadata": {},
      "outputs": [],
      "source": [
        "# Downloading imdb top 250 movie's data\n",
        "url = 'http://www.imdb.com/chart/top'\n",
        "response = requests.get(url)\n",
        "soup = BeautifulSoup(response.text, \"html.parser\")"
      ],
      "id": "cell-13"
    },
    {
      "cell_type": "code",
      "execution_count": 15,
      "metadata": {},
      "outputs": [],
      "source": [
        "movies = soup.select('td.titleColumn')\n",
        "crew = [a.attrs.get('title') for a in soup.select('td.titleColumn a')]\n",
        "ratings = [b.attrs.get('data-value')\n",
        "        for b in soup.select('td.posterColumn span[name=ir]')]"
      ],
      "id": "cell-14"
    },
    {
      "cell_type": "code",
      "execution_count": 16,
      "metadata": {},
      "outputs": [],
      "source": [
        "# create a empty list for storing\n",
        "# movie information\n",
        "list = []\n",
        "\n",
        "# Iterating over movies to extract\n",
        "# each movie's details\n",
        "for index in range(0, len(movies)):\n",
        "    \n",
        "    # Separating movie into: 'place',\n",
        "    # 'title', 'year'\n",
        "    movie_string = movies[index].get_text()\n",
        "    movie = (' '.join(movie_string.split()).replace('.', ''))\n",
        "    movie_title = movie[len(str(index))+1:-7]\n",
        "    year = re.search('\\((.*?)\\)', movie_string).group(1)\n",
        "    place = movie[:len(str(index))-(len(movie))]\n",
        "    data = {\"place\": place,\n",
        "            \"movie_title\": movie_title,\n",
        "            \"rating\": ratings[index],\n",
        "            \"year\": year,\n",
        "            \"star_cast\": crew[index],\n",
        "            }\n",
        "    list.append(data)\n"
      ],
      "id": "cell-15"
    },
    {
      "cell_type": "code",
      "execution_count": 17,
      "metadata": {},
      "outputs": [],
      "source": [
        "for movie in list:\n",
        "    print(movie['place'], '-', movie['movie_title'], '('+movie['year'] +\n",
        "        ') -', 'Starring:', movie['star_cast'], movie['rating'])\n"
      ],
      "id": "cell-16"
    },
    {
      "cell_type": "code",
      "execution_count": 18,
      "metadata": {},
      "outputs": [],
      "source": [
        "#saving the list as dataframe\n",
        "#then converting into .csv file\n",
        "df = pd.DataFrame(list)\n",
        "df.to_csv('imdb_top_250_movies.csv',index=False)\n"
      ],
      "id": "cell-17"
    },
    {
      "cell_type": "code",
      "execution_count": 19,
      "metadata": {},
      "outputs": [],
      "source": [
        "from bs4 import BeautifulSoup\n",
        "import requests\n",
        "import re\n",
        "import pandas as pd\n",
        "\n",
        "\n",
        "# Downloading imdb top 250 movie's data\n",
        "url = 'http://www.imdb.com/chart/top'\n",
        "response = requests.get(url)\n",
        "soup = BeautifulSoup(response.text, \"html.parser\")\n",
        "movies = soup.select('td.titleColumn')\n",
        "crew = [a.attrs.get('title') for a in soup.select('td.titleColumn a')]\n",
        "ratings = [b.attrs.get('data-value')\n",
        "        for b in soup.select('td.posterColumn span[name=ir]')]\n",
        "\n",
        "\n",
        "\n",
        "\n",
        "# create a empty list for storing\n",
        "# movie information\n",
        "list = []\n",
        "\n",
        "# Iterating over movies to extract\n",
        "# each movie's details\n",
        "for index in range(0, len(movies)):\n",
        "    \n",
        "    # Separating movie into: 'place',\n",
        "    # 'title', 'year'\n",
        "    movie_string = movies[index].get_text()\n",
        "    movie = (' '.join(movie_string.split()).replace('.', ''))\n",
        "    movie_title = movie[len(str(index))+1:-7]\n",
        "    year = re.search('\\((.*?)\\)', movie_string).group(1)\n",
        "    place = movie[:len(str(index))-(len(movie))]\n",
        "    data = {\"place\": place,\n",
        "            \"movie_title\": movie_title,\n",
        "            \"rating\": ratings[index],\n",
        "            \"year\": year,\n",
        "            \"star_cast\": crew[index],\n",
        "            }\n",
        "    list.append(data)\n",
        "\n",
        "# printing movie details with its rating.\n",
        "for movie in list:\n",
        "    print(movie['place'], '-', movie['movie_title'], '('+movie['year'] +\n",
        "        ') -', 'Starring:', movie['star_cast'], movie['rating'])\n",
        "\n",
        "\n",
        "##.......##\n",
        "df = pd.DataFrame(list)\n",
        "df.to_csv('imdb_top_250_movies.csv',index=False)\n"
      ],
      "id": "cell-18"
    },
    {
      "cell_type": "code",
      "execution_count": 20,
      "metadata": {},
      "outputs": [
        {
          "output_type": "stream",
          "name": "stdout",
          "text": [
            "Defaulting to user installation because normal site-packages is not writeable\n",
            "Requirement already satisfied: requests in /Users/zhangyuan/Library/Python/3.9/lib/python/site-packages (2.32.3)\n",
            "Requirement already satisfied: certifi>=2017.4.17 in /Users/zhangyuan/Library/Python/3.9/lib/python/site-packages (from requests) (2024.8.30)\n",
            "Requirement already satisfied: idna<4,>=2.5 in /Users/zhangyuan/Library/Python/3.9/lib/python/site-packages (from requests) (3.10)\n",
            "Requirement already satisfied: urllib3<3,>=1.21.1 in /Users/zhangyuan/Library/Python/3.9/lib/python/site-packages (from requests) (2.2.3)\n",
            "Requirement already satisfied: charset-normalizer<4,>=2 in /Users/zhangyuan/Library/Python/3.9/lib/python/site-packages (from requests) (3.4.0)\n",
            "WARNING: You are using pip version 21.2.4; however, version 24.3.1 is available.\n",
            "You should consider upgrading via the '/Library/Developer/CommandLineTools/usr/bin/python3 -m pip install --upgrade pip' command.\n",
            "Note: you may need to restart the kernel to use updated packages."
          ]
        }
      ],
      "source": [
        "%pip install requests"
      ],
      "id": "cell-19"
    },
    {
      "cell_type": "code",
      "execution_count": 21,
      "metadata": {},
      "outputs": [
        {
          "output_type": "stream",
          "name": "stdout",
          "text": [
            "Defaulting to user installation because normal site-packages is not writeable\n",
            "Requirement already satisfied: beautifulsoup4 in /Users/zhangyuan/Library/Python/3.9/lib/python/site-packages (4.12.3)\n",
            "Requirement already satisfied: soupsieve>1.2 in /Users/zhangyuan/Library/Python/3.9/lib/python/site-packages (from beautifulsoup4) (2.6)\n",
            "WARNING: You are using pip version 21.2.4; however, version 24.3.1 is available.\n",
            "You should consider upgrading via the '/Library/Developer/CommandLineTools/usr/bin/python3 -m pip install --upgrade pip' command.\n",
            "Note: you may need to restart the kernel to use updated packages."
          ]
        }
      ],
      "source": [
        "%pip install beautifulsoup4"
      ],
      "id": "cell-20"
    },
    {
      "cell_type": "code",
      "execution_count": 22,
      "metadata": {},
      "outputs": [
        {
          "output_type": "stream",
          "name": "stdout",
          "text": [
            "网页内容加载成功！"
          ]
        }
      ],
      "source": [
        "import requests\n",
        " \n",
        "# 定义请求的 URL 和 headers\n",
        "url = \"https://movie.douban.com/top250\"\n",
        "headers = {\n",
        "    \"User-Agent\": \"Mozilla/5.0 (Windows NT 10.0; Win64; x64) AppleWebKit/537.36 (KHTML, like Gecko) Chrome/91.0.4472.124 Safari/537.36\"\n",
        "}\n",
        " \n",
        "# 发送 GET 请求\n",
        "response = requests.get(url, headers=headers)\n",
        "response.encoding = 'utf-8'  # 设置编码方式\n",
        "html_content = response.text  # 获取网页的 HTML 内容\n",
        "print(\"网页内容加载成功！\")"
      ],
      "id": "cell-21"
    },
    {
      "cell_type": "code",
      "execution_count": 23,
      "metadata": {},
      "outputs": [
        {
          "output_type": "stream",
          "name": "stdout",
          "text": [
            "数据提取成功！"
          ]
        }
      ],
      "source": [
        "from bs4 import BeautifulSoup\n",
        " \n",
        "# 使用 Beautiful Soup 解析 HTML\n",
        "soup = BeautifulSoup(html_content, 'html.parser')\n",
        " \n",
        "# 提取电影名称、描述、评分和评价人数\n",
        "movies = []\n",
        "for item in soup.find_all('div', class_='item'):\n",
        "    title = item.find('span', class_='title').get_text()  # 电影名称\n",
        "    description = item.find('span', class_='inq')  # 电影描述\n",
        "    rating = item.find('span', class_='rating_num').get_text()  # 评分\n",
        "    votes = item.find('div', class_='star').find_all('span')[3].get_text()  # 评价人数\n",
        "    \n",
        "    # 如果没有描述，将其置为空字符串\n",
        "    if description:\n",
        "        description = description.get_text()\n",
        "    else:\n",
        "        description = ''\n",
        "    \n",
        "    movie = {\n",
        "        \"title\": title,\n",
        "        \"description\": description,\n",
        "        \"rating\": rating,\n",
        "        \"votes\": votes.replace('人评价', '').strip()\n",
        "    }\n",
        "    movies.append(movie)\n",
        " \n",
        "print(\"数据提取成功！\")"
      ],
      "id": "cell-22"
    },
    {
      "cell_type": "code",
      "execution_count": 24,
      "metadata": {},
      "outputs": [
        {
          "output_type": "stream",
          "name": "stdout",
          "text": [
            "数据已成功保存到 douban_top250.csv"
          ]
        }
      ],
      "source": [
        "import csv\n",
        " \n",
        "# 将数据保存到 CSV 文件\n",
        "with open('douban_top250.csv', 'w', newline='', encoding='utf-8') as csvfile:\n",
        "    fieldnames = ['title', 'description', 'rating', 'votes']\n",
        "    writer = csv.DictWriter(csvfile, fieldnames=fieldnames)\n",
        " \n",
        "    writer.writeheader()  # 写入表头\n",
        "    for movie in movies:\n",
        "        writer.writerow(movie)  # 写入每一行数据\n",
        " \n",
        "print(\"数据已成功保存到 douban_top250.csv\")"
      ],
      "id": "cell-23"
    },
    {
      "cell_type": "code",
      "execution_count": 25,
      "metadata": {},
      "outputs": [
        {
          "output_type": "stream",
          "name": "stdout",
          "text": [
            "数据已成功保存到 douban_top250.csv"
          ]
        }
      ],
      "source": [
        "import requests\n",
        "from bs4 import BeautifulSoup\n",
        "import csv\n",
        " \n",
        "# 定义请求的 URL 和 headers\n",
        "url = \"https://movie.douban.com/top250\"\n",
        "headers = {\n",
        "    \"User-Agent\": \"Mozilla/5.0 (Windows NT 10.0; Win64; x64) AppleWebKit/537.36 (KHTML, like Gecko) Chrome/91.0.4472.124 Safari/537.36\"\n",
        "}\n",
        " \n",
        "# 发送 GET 请求\n",
        "response = requests.get(url, headers=headers)\n",
        "response.encoding = 'utf-8'  # 设置编码方式\n",
        "html_content = response.text  # 获取网页的 HTML 内容\n",
        " \n",
        "# 使用 Beautiful Soup 解析 HTML\n",
        "soup = BeautifulSoup(html_content, 'html.parser')\n",
        " \n",
        "# 提取电影名称、描述、评分和评价人数\n",
        "movies = []\n",
        "for item in soup.find_all('div', class_='item'):\n",
        "    title = item.find('span', class_='title').get_text()  # 电影名称\n",
        "    description = item.find('span', class_='inq')  # 电影描述\n",
        "    rating = item.find('span', class_='rating_num').get_text()  # 评分\n",
        "    votes = item.find('div', class_='star').find_all('span')[3].get_text()  # 评价人数\n",
        "    \n",
        "    # 如果没有描述，将其置为空字符串\n",
        "    if description:\n",
        "        description = description.get_text()\n",
        "    else:\n",
        "        description = ''\n",
        "    \n",
        "    movie = {\n",
        "        \"title\": title,\n",
        "        \"description\": description,\n",
        "        \"rating\": rating,\n",
        "        \"votes\": votes.replace('人评价', '').strip()\n",
        "    }\n",
        "    movies.append(movie)\n",
        " \n",
        "# 将数据保存到 CSV 文件\n",
        "with open('douban_top250.csv', 'w', newline='', encoding='utf-8') as csvfile:\n",
        "    fieldnames = ['title', 'description', 'rating', 'votes']\n",
        "    writer = csv.DictWriter(csvfile, fieldnames=fieldnames)\n",
        " \n",
        "    writer.writeheader()  # 写入表头\n",
        "    for movie in movies:\n",
        "        writer.writerow(movie)  # 写入每一行数据\n",
        " \n",
        "print(\"数据已成功保存到 douban_top250.csv\")"
      ],
      "id": "cell-24"
    }
  ],
  "nbformat": 4,
  "nbformat_minor": 5,
  "metadata": {
    "kernelspec": {
      "name": "python3",
      "display_name": "Python 3",
      "language": "python"
    },
    "language_info": {
      "name": "python",
      "codemirror_mode": {
        "name": "ipython",
        "version": "3"
      },
      "file_extension": ".py",
      "mimetype": "text/x-python",
      "nbconvert_exporter": "python",
      "pygments_lexer": "ipython3",
      "version": "3.9.6"
    }
  }
}