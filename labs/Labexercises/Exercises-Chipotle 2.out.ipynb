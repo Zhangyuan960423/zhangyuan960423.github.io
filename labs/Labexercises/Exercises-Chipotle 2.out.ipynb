{
  "cells": [
    {
      "cell_type": "markdown",
      "metadata": {},
      "source": [
        "# Ex1 - Filtering and Sorting Data\n",
        "\n",
        "This time we are going to pull data directly from the internet. Special\n",
        "thanks to: https://github.com/justmarkham for sharing the dataset and\n",
        "materials.\n",
        "\n",
        "### Step 1. Import the necessary libraries"
      ],
      "id": "48da91d1-3f80-4102-929a-ec631fb069d5"
    },
    {
      "cell_type": "code",
      "execution_count": 2,
      "metadata": {},
      "outputs": [],
      "source": [
        "import pandas as pd\n",
        "import numpy as np"
      ],
      "id": "cell-3"
    },
    {
      "cell_type": "markdown",
      "metadata": {},
      "source": [
        "### Step 2. Import the dataset from this [address](https://raw.githubusercontent.com/justmarkham/DAT8/master/data/chipotle.tsv).\n",
        "\n",
        "### Step 3. Assign it to a variable called chipo."
      ],
      "id": "002cbbb2-ba08-47c0-8724-9ae34a544739"
    },
    {
      "cell_type": "code",
      "execution_count": 3,
      "metadata": {},
      "outputs": [
        {
          "output_type": "display_data",
          "metadata": {},
          "data": {
            "text/html": [
              "\n",
              "</div>"
            ]
          }
        }
      ],
      "source": [
        "chipo = pd.read_csv('https://raw.githubusercontent.com/justmarkham/DAT8/master/data/chipotle.tsv',sep='\\t')\n",
        "chipo.head()"
      ],
      "id": "cell-6"
    },
    {
      "cell_type": "markdown",
      "metadata": {},
      "source": [
        "### Step 4. How many products cost more than \\$10.00?"
      ],
      "id": "25382534-7d56-419b-8d51-88714fb342e9"
    },
    {
      "cell_type": "code",
      "execution_count": 4,
      "metadata": {},
      "outputs": [
        {
          "output_type": "display_data",
          "metadata": {},
          "data": {
            "text/plain": [
              "12"
            ]
          }
        }
      ],
      "source": [
        "chipo['item_price'] = chipo['item_price'].apply(lambda x:float(x[1:]))\n",
        "\n",
        "chipo_4 = chipo.drop_duplicates(['item_name','quantity'])\n",
        "\n",
        "chipo_4 = chipo_4[chipo_4.quantity == 1]\n",
        "\n",
        "chipo_4[chipo_4.item_price > 10].item_name.nunique()"
      ],
      "id": "cell-8"
    },
    {
      "cell_type": "markdown",
      "metadata": {},
      "source": [
        "### Step 5. What is the price of each item?\n",
        "\n",
        "###### print a data frame with only two columns item_name and item_price"
      ],
      "id": "63aa008e-8b49-43b3-9031-eacf2ed5d803"
    },
    {
      "cell_type": "code",
      "execution_count": 5,
      "metadata": {},
      "outputs": [
        {
          "output_type": "display_data",
          "metadata": {},
          "data": {
            "text/html": [
              "\n",
              "</div>"
            ]
          }
        }
      ],
      "source": [
        "chipo_5 = chipo.drop_duplicates(['item_name'])\n",
        "chipo_5 = chipo_5[chipo_5.quantity == 1]\n",
        "chipo_5[['item_name','item_price']]"
      ],
      "id": "cell-10"
    },
    {
      "cell_type": "markdown",
      "metadata": {},
      "source": [
        "### Step 6. Sort by the name of the item"
      ],
      "id": "ae6ef396-93e0-4a9e-b12c-6599e8a750d5"
    },
    {
      "cell_type": "code",
      "execution_count": 6,
      "metadata": {},
      "outputs": [
        {
          "output_type": "display_data",
          "metadata": {},
          "data": {
            "text/html": [
              "\n",
              "</div>"
            ]
          }
        }
      ],
      "source": [
        "chipo_5[['item_name','item_price']].sort_values(by='item_name')"
      ],
      "id": "cell-12"
    },
    {
      "cell_type": "markdown",
      "metadata": {},
      "source": [
        "### Step 7. What was the quantity of the most expensive item ordered?"
      ],
      "id": "e6fb1af6-6279-4bfd-ae6d-a1f48444241f"
    },
    {
      "cell_type": "code",
      "execution_count": 7,
      "metadata": {},
      "outputs": [
        {
          "output_type": "display_data",
          "metadata": {},
          "data": {
            "text/html": [
              "\n",
              "</div>"
            ]
          }
        }
      ],
      "source": [
        "chipo_5.sort_values(by='item_name').tail(1)"
      ],
      "id": "cell-14"
    },
    {
      "cell_type": "markdown",
      "metadata": {},
      "source": [
        "### Step 8. How many times was a Veggie Salad Bowl ordered?"
      ],
      "id": "b3fb8a26-dddb-42a3-a289-02ea81f220be"
    },
    {
      "cell_type": "code",
      "execution_count": 8,
      "metadata": {},
      "outputs": [
        {
          "output_type": "display_data",
          "metadata": {},
          "data": {
            "text/plain": [
              "18"
            ]
          }
        }
      ],
      "source": [
        "len(chipo[chipo.item_name == 'Veggie Salad Bowl'])"
      ],
      "id": "cell-16"
    },
    {
      "cell_type": "markdown",
      "metadata": {},
      "source": [
        "### Step 9. How many times did someone order more than one Canned Soda?"
      ],
      "id": "21108708-75bb-415d-9d63-0ed7efead881"
    },
    {
      "cell_type": "code",
      "execution_count": 9,
      "metadata": {},
      "outputs": [
        {
          "output_type": "display_data",
          "metadata": {},
          "data": {
            "text/plain": [
              "20"
            ]
          }
        }
      ],
      "source": [
        "len(chipo[(chipo.item_name == 'Canned Soda') & (chipo.quantity > 1)])"
      ],
      "id": "cell-18"
    }
  ],
  "nbformat": 4,
  "nbformat_minor": 5,
  "metadata": {
    "kernelspec": {
      "name": "python3",
      "display_name": "Python 3",
      "language": "python"
    },
    "language_info": {
      "name": "python",
      "codemirror_mode": {
        "name": "ipython",
        "version": "3"
      },
      "file_extension": ".py",
      "mimetype": "text/x-python",
      "nbconvert_exporter": "python",
      "pygments_lexer": "ipython3",
      "version": "3.11.9"
    }
  }
}