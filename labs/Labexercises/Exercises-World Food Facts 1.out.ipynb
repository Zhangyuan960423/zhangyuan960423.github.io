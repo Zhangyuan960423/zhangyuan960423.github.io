{
  "cells": [
    {
      "cell_type": "markdown",
      "metadata": {},
      "source": [
        "# Exercise 1\n",
        "\n",
        "### Step 1. Go to https://www.kaggle.com/openfoodfacts/world-food-facts/data\n",
        "\n",
        "### Step 2. Download the dataset to your computer and unzip it.\n",
        "\n",
        "### Step 3. Use the tsv file and assign it to a dataframe called food"
      ],
      "id": "9353b775-3c07-4726-a2c7-d9e9df6e6882"
    },
    {
      "cell_type": "code",
      "execution_count": 2,
      "metadata": {},
      "outputs": [
        {
          "output_type": "stream",
          "name": "stderr",
          "text": [
            "C:\\Users\\admin\\AppData\\Local\\Temp\\ipykernel_19112\\1762735028.py:3: DtypeWarning: Columns (0,3,5,19,20,24,25,26,27,28,36,37,38,39,48) have mixed types. Specify dtype option on import or set low_memory=False.\n",
            "  food = pd.read_csv('en.openfoodfacts.org.products.tsv',sep='\\t')"
          ]
        }
      ],
      "source": [
        "import pandas as pd\n",
        "import numpy as np\n",
        "food = pd.read_csv('en.openfoodfacts.org.products.tsv',sep='\\t')"
      ],
      "id": "cell-5"
    },
    {
      "cell_type": "markdown",
      "metadata": {},
      "source": [
        "### Step 4. See the first 5 entries"
      ],
      "id": "73e847a6-ee61-4007-a154-d2737c4d896b"
    },
    {
      "cell_type": "code",
      "execution_count": 3,
      "metadata": {},
      "outputs": [
        {
          "output_type": "display_data",
          "metadata": {},
          "data": {
            "text/html": [
              "\n",
              "<p>5 rows × 163 columns</p>\n",
              "</div>"
            ]
          }
        }
      ],
      "source": [
        "food.head()"
      ],
      "id": "cell-7"
    },
    {
      "cell_type": "markdown",
      "metadata": {},
      "source": [
        "### Step 5. What is the number of observations in the dataset?"
      ],
      "id": "c251c481-6884-4def-b9aa-b674d69aa131"
    },
    {
      "cell_type": "code",
      "execution_count": 5,
      "metadata": {},
      "outputs": [
        {
          "output_type": "display_data",
          "metadata": {},
          "data": {
            "text/plain": [
              "356027"
            ]
          }
        }
      ],
      "source": [
        "food.shape[0]"
      ],
      "id": "cell-9"
    },
    {
      "cell_type": "markdown",
      "metadata": {},
      "source": [
        "### Step 6. What is the number of columns in the dataset?"
      ],
      "id": "796c039d-b088-401f-9b90-3daaaf1acb02"
    },
    {
      "cell_type": "code",
      "execution_count": 6,
      "metadata": {},
      "outputs": [
        {
          "output_type": "stream",
          "name": "stdout",
          "text": [
            "<class 'pandas.core.frame.DataFrame'>\n",
            "RangeIndex: 356027 entries, 0 to 356026\n",
            "Columns: 163 entries, code to water-hardness_100g\n",
            "dtypes: float64(107), object(56)\n",
            "memory usage: 442.8+ MB"
          ]
        }
      ],
      "source": [
        "food.shape[1]\n",
        "food.info()"
      ],
      "id": "cell-11"
    },
    {
      "cell_type": "markdown",
      "metadata": {},
      "source": [
        "### Step 7. Print the name of all the columns."
      ],
      "id": "87100b68-e014-4b4e-ba2b-ceb1e5b9984e"
    },
    {
      "cell_type": "code",
      "execution_count": 7,
      "metadata": {},
      "outputs": [
        {
          "output_type": "display_data",
          "metadata": {},
          "data": {
            "text/plain": [
              "Index(['code', 'url', 'creator', 'created_t', 'created_datetime',\n",
              "       'last_modified_t', 'last_modified_datetime', 'product_name',\n",
              "       'generic_name', 'quantity',\n",
              "       ...\n",
              "       'fruits-vegetables-nuts_100g', 'fruits-vegetables-nuts-estimate_100g',\n",
              "       'collagen-meat-protein-ratio_100g', 'cocoa_100g', 'chlorophyl_100g',\n",
              "       'carbon-footprint_100g', 'nutrition-score-fr_100g',\n",
              "       'nutrition-score-uk_100g', 'glycemic-index_100g',\n",
              "       'water-hardness_100g'],\n",
              "      dtype='object', length=163)"
            ]
          }
        }
      ],
      "source": [
        "food.columns"
      ],
      "id": "cell-13"
    },
    {
      "cell_type": "markdown",
      "metadata": {},
      "source": [
        "### Step 8. What is the name of 105th column?"
      ],
      "id": "4abb1357-48b0-4e33-afdf-85cb533cde71"
    },
    {
      "cell_type": "code",
      "execution_count": 8,
      "metadata": {},
      "outputs": [
        {
          "output_type": "display_data",
          "metadata": {},
          "data": {
            "text/plain": [
              "'-glucose_100g'"
            ]
          }
        }
      ],
      "source": [
        "food.columns[104]"
      ],
      "id": "cell-15"
    },
    {
      "cell_type": "markdown",
      "metadata": {},
      "source": [
        "### Step 9. What is the type of the observations of the 105th column?"
      ],
      "id": "953e3817-0ff1-450e-a457-93cd12c5c302"
    },
    {
      "cell_type": "code",
      "execution_count": 10,
      "metadata": {},
      "outputs": [
        {
          "output_type": "display_data",
          "metadata": {},
          "data": {
            "text/plain": [
              "dtype('float64')"
            ]
          }
        }
      ],
      "source": [
        "food.dtypes[food.columns[104]]"
      ],
      "id": "cell-17"
    },
    {
      "cell_type": "markdown",
      "metadata": {},
      "source": [
        "### Step 10. How is the dataset indexed?"
      ],
      "id": "0c6ad9e0-87b5-4c81-a660-ea7f60d27bf7"
    },
    {
      "cell_type": "code",
      "execution_count": 11,
      "metadata": {},
      "outputs": [
        {
          "output_type": "display_data",
          "metadata": {},
          "data": {
            "text/plain": [
              "RangeIndex(start=0, stop=356027, step=1)"
            ]
          }
        }
      ],
      "source": [
        "food.index"
      ],
      "id": "cell-19"
    },
    {
      "cell_type": "markdown",
      "metadata": {},
      "source": [
        "### Step 11. What is the product name of the 19th observation?"
      ],
      "id": "5b31a34b-5af4-44c3-9a31-3b53b4e7fcb9"
    },
    {
      "cell_type": "code",
      "execution_count": 12,
      "metadata": {},
      "outputs": [
        {
          "output_type": "display_data",
          "metadata": {},
          "data": {
            "text/plain": [
              "'Lotus Organic Brown Jasmine Rice'"
            ]
          }
        }
      ],
      "source": [
        "food.values[18][7]"
      ],
      "id": "cell-21"
    }
  ],
  "nbformat": 4,
  "nbformat_minor": 5,
  "metadata": {
    "anaconda-cloud": {},
    "kernelspec": {
      "name": "python3",
      "display_name": "Python 3",
      "language": "python"
    },
    "language_info": {
      "name": "python",
      "codemirror_mode": {
        "name": "ipython",
        "version": "3"
      },
      "file_extension": ".py",
      "mimetype": "text/x-python",
      "nbconvert_exporter": "python",
      "pygments_lexer": "ipython3",
      "version": "3.11.9"
    }
  }
}